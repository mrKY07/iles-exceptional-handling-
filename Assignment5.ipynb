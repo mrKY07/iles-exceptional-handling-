{
  "nbformat": 4,
  "nbformat_minor": 0,
  "metadata": {
    "colab": {
      "provenance": []
    },
    "kernelspec": {
      "name": "python3",
      "display_name": "Python 3"
    },
    "language_info": {
      "name": "python"
    }
  },
  "cells": [
    {
      "cell_type": "code",
      "execution_count": null,
      "metadata": {
        "id": "ucsVzw0varuK"
      },
      "outputs": [],
      "source": []
    },
    {
      "cell_type": "markdown",
      "source": [
        "1.What is the difference between interpreted and compiled languages?\n",
        "\n",
        "**What is the difference between interpreted and compiled languages?**\n",
        "\n",
        "- **Interpreted languages**:  \n",
        "  - Code is executed line-by-line by an interpreter.  \n",
        "  - Easier to debug.  \n",
        "  - Slower execution speed.\n",
        "\n",
        "- **Compiled languages**:  \n",
        "  - Code is converted into machine code before execution.  \n",
        "  - Faster execution.  \n",
        "  - Requires a compilation step before running.\n",
        "\n",
        "\n"
      ],
      "metadata": {
        "id": "sxu04C1Sau3E"
      }
    },
    {
      "cell_type": "markdown",
      "source": [
        "2.What is exception handling in Python?\n",
        "\n",
        "Exception handling in Python is a mechanism used to handle runtime errors. It involves using try, except, else, and finally blocks to catch and manage exceptions, allowing the program to continue running smoothly even in the presence of errors.\n",
        "\n"
      ],
      "metadata": {
        "id": "BfEOdGWha1_z"
      }
    },
    {
      "cell_type": "markdown",
      "source": [
        "3.What is the purpose of the finally block in exception handling?\n",
        "\n",
        "The finally block in exception handling is used to execute code that must run regardless of whether an exception was raised or not. It is often used for cleanup actions, like closing files or releasing resources.\n",
        "\n"
      ],
      "metadata": {
        "id": "X5U2L2x5a6ia"
      }
    },
    {
      "cell_type": "markdown",
      "source": [
        "4.What is logging in Python?\n",
        "\n",
        "Logging in Python is a way to track events and errors during program execution. The logging module allows for different levels of messages (e.g., INFO, ERROR, DEBUG) to be written to log files or console, aiding in debugging and monitoring.\n",
        "\n"
      ],
      "metadata": {
        "id": "LKx1umy3a_D6"
      }
    },
    {
      "cell_type": "markdown",
      "source": [
        "5.What is the significance of the __del__ method in Python?\n",
        "\n",
        "The __del__ method in Python is a special method that is automatically called when an object is about to be destroyed. It is used for cleanup activities, like releasing external resources or closing connections before the object is garbage collected."
      ],
      "metadata": {
        "id": "HMdf9EEJbC-K"
      }
    },
    {
      "cell_type": "markdown",
      "source": [
        "6.What is the difference between import and from... import in Python?\n",
        "\n",
        "Using import brings in the entire module, requiring the module name to be used to access functions or variables. from... import allows importing specific functions or variables directly, making them available without the module prefix."
      ],
      "metadata": {
        "id": "C78c-SRAbGxM"
      }
    },
    {
      "cell_type": "markdown",
      "source": [
        "7.How can you handle multiple exceptions in Python?\n",
        "\n",
        "Multiple exceptions can be handled using multiple except blocks for different exceptions or by grouping them in a single block using a tuple. This helps manage various error types more precisely in a program.\n",
        "\n",
        "\n",
        "\n",
        "\n",
        "\n",
        "\n",
        "\n",
        "\n",
        "\n",
        "\n"
      ],
      "metadata": {
        "id": "qdBhVInrbKQW"
      }
    },
    {
      "cell_type": "markdown",
      "source": [
        "8.What is the purpose of the with statement when handling files in Python?\n",
        "\n",
        "The with statement simplifies file handling by automatically managing file opening and closing. It ensures that resources are properly released, even if an error occurs during file operations.\n",
        "\n"
      ],
      "metadata": {
        "id": "sfNxDX_tbf11"
      }
    },
    {
      "cell_type": "markdown",
      "source": [
        "9.What is the difference between multithreading and multiprocessing?\n",
        "\n",
        "Multithreading uses multiple threads within a single process, ideal for I/O-bound tasks. Multiprocessing creates separate processes, suitable for CPU-bound tasks, allowing true parallel execution and better CPU utilization.\n",
        "\n"
      ],
      "metadata": {
        "id": "45RkNPc7bibS"
      }
    },
    {
      "cell_type": "markdown",
      "source": [
        "10.What are the advantages of using logging in a program?\n",
        "\n",
        "Logging helps in tracking events, errors, and program flow during execution. It aids in debugging, maintains logs for future reference, and supports different log levels for better monitoring and analysis.\n",
        "\n"
      ],
      "metadata": {
        "id": "bT4U3X1Fbkjp"
      }
    },
    {
      "cell_type": "markdown",
      "source": [
        "11.What is memory management in Python?\n",
        "\n",
        "Python manages memory using a private heap, automatic garbage collection, and reference counting. It handles allocation and deallocation internally, making memory management efficient and mostly invisible to the programmer.\n",
        "\n"
      ],
      "metadata": {
        "id": "bJtv7zYSbnBJ"
      }
    },
    {
      "cell_type": "markdown",
      "source": [
        "12.What are the basic steps involved in exception handling in Python?\n",
        "\n",
        "Exception handling involves wrapping code in a try block, catching errors with one or more except blocks, optionally using else for normal flow, and finally for cleanup actions. This ensures graceful error handling."
      ],
      "metadata": {
        "id": "ribSvlQEboiS"
      }
    },
    {
      "cell_type": "markdown",
      "source": [
        "13.Why is memory management important in Python?\n",
        "\n",
        "Memory management ensures efficient use of memory resources, preventing leaks and optimizing performance. It allows Python to handle large programs smoothly by automatically managing memory allocation and deallocation.\n"
      ],
      "metadata": {
        "id": "ftznDqOibsA5"
      }
    },
    {
      "cell_type": "markdown",
      "source": [
        "14.What is the role of try and except in exception handling?\n",
        "\n",
        "The try block contains code that might raise an exception, while the except block defines how to respond if an error occurs. Together, they allow the program to handle errors gracefully instead of crashing."
      ],
      "metadata": {
        "id": "lLH-Taj5dQMq"
      }
    },
    {
      "cell_type": "markdown",
      "source": [
        "15.How does Python's garbage collection system work?\n",
        "\n",
        "Python uses automatic garbage collection to reclaim memory occupied by unused objects. It mainly uses reference counting and a cyclic garbage collector to detect and clean up objects no longer in use."
      ],
      "metadata": {
        "id": "RIvnSSCydSdp"
      }
    },
    {
      "cell_type": "markdown",
      "source": [
        "\n",
        "16.What is the purpose of the else block in exception handling?\n",
        "\n",
        "The else block runs only if no exception occurs in the try block. It’s used to place code that should execute after a successful try, keeping it separate from error handling logic.\n"
      ],
      "metadata": {
        "id": "Mb66kh-cddqh"
      }
    },
    {
      "cell_type": "markdown",
      "source": [
        "17.What are the common logging levels in Python?\n",
        "\n",
        "Common logging levels are DEBUG, INFO, WARNING, ERROR, and CRITICAL. Each level indicates the severity of the message, allowing developers to filter logs based on importance."
      ],
      "metadata": {
        "id": "KryO9ADkde-R"
      }
    },
    {
      "cell_type": "markdown",
      "source": [
        "18.What is the difference between os.fork() and multiprocessing in Python?\n",
        "\n",
        "os.fork() creates a child process at the OS level, available only on Unix systems. multiprocessing is a cross-platform module that abstracts process creation and provides better control, making it more portable and safer."
      ],
      "metadata": {
        "id": "_3xiJ5T4dlco"
      }
    },
    {
      "cell_type": "markdown",
      "source": [
        "19.What is the importance of closing a file in Python?\n",
        "\n",
        "Closing a file releases the system resources tied to it and ensures that all data is properly written, especially when writing to files. Not closing files may lead to memory leaks or data corruption.\n"
      ],
      "metadata": {
        "id": "HX8FWkVedl1h"
      }
    },
    {
      "cell_type": "markdown",
      "source": [
        "\n",
        "20.What is the difference between file.read() and file.readline() in Python?\n",
        "\n",
        "file.read() reads the entire content of a file as a single string, while file.readline() reads only one line at a time. readline() is useful for processing files line by line."
      ],
      "metadata": {
        "id": "c4s3sS_rdnLZ"
      }
    },
    {
      "cell_type": "markdown",
      "source": [
        "21.What is the logging module in Python used for?\n",
        "\n",
        "The logging module is used to record messages from a program for debugging, monitoring, and error tracking. It supports different log levels and can write logs to files or display them on the console."
      ],
      "metadata": {
        "id": "o2MzWcDSdqc5"
      }
    },
    {
      "cell_type": "markdown",
      "source": [
        "22.What is the os module in Python used for in file handling?\n",
        "\n",
        "The os module provides functions to interact with the operating system, such as creating, deleting, and renaming files or directories, and checking file paths, making it essential for file system operations."
      ],
      "metadata": {
        "id": "kb2qf_HedrpA"
      }
    },
    {
      "cell_type": "markdown",
      "source": [
        "**23. What are the challenges associated with memory management in Python?**\n",
        "\n",
        "- Managing reference cycles that can't be cleaned by simple reference counting.  \n",
        "- Memory leaks caused by lingering references to unused objects.  \n",
        "- High memory usage due to large data structures or inefficient code.  \n",
        "- Difficulty in controlling memory manually due to Python’s automatic garbage collection."
      ],
      "metadata": {
        "id": "0i3fyHEudsIZ"
      }
    },
    {
      "cell_type": "markdown",
      "source": [
        "24. How do you raise an exception manually in Python?\n",
        "You can manually raise an exception using the raise keyword followed by an exception type. This is useful when you want to signal that an error has occurred intentionally.\n",
        "\n",
        "Example:\n",
        "\n",
        "raise ValueError(\"Invalid input\")\n"
      ],
      "metadata": {
        "id": "-Yi-joKkd_dx"
      }
    },
    {
      "cell_type": "markdown",
      "source": [
        "25.Why is it important to use multithreading in certain applications?\n",
        "\n",
        "Multithreading improves performance in I/O-bound applications by allowing tasks like file operations or network requests to run concurrently. It keeps programs responsive and efficient without creating multiple processes."
      ],
      "metadata": {
        "id": "RTyMyfo4eEL5"
      }
    },
    {
      "cell_type": "code",
      "source": [
        "with open('TANMAY.txt', 'w') as f:\n",
        "    f.write(\"HELLO I'M TANMAY.\")"
      ],
      "metadata": {
        "id": "K93jxrIwg80J"
      },
      "execution_count": 2,
      "outputs": []
    },
    {
      "cell_type": "code",
      "source": [
        "with open('TANMAY.txt', 'r') as f:\n",
        "    for line in f:\n",
        "        print(line.strip())\n"
      ],
      "metadata": {
        "colab": {
          "base_uri": "https://localhost:8080/"
        },
        "id": "nQRNy8eNg-8_",
        "outputId": "948d0605-23ef-4412-b822-266ee51f3f6a"
      },
      "execution_count": 3,
      "outputs": [
        {
          "output_type": "stream",
          "name": "stdout",
          "text": [
            "HELLO I'M TANMAY.\n"
          ]
        }
      ]
    },
    {
      "cell_type": "code",
      "source": [
        "try:\n",
        "    with open('TANMAY1.txt', 'r') as f:\n",
        "        print(f.read())\n",
        "except FileNotFoundError:\n",
        "    print(\"The file does not exist.\")\n"
      ],
      "metadata": {
        "colab": {
          "base_uri": "https://localhost:8080/"
        },
        "id": "90gnxEROh9hW",
        "outputId": "a33b5288-5e3f-4c92-c595-4dbb9a89cd60"
      },
      "execution_count": 5,
      "outputs": [
        {
          "output_type": "stream",
          "name": "stdout",
          "text": [
            "The file does not exist.\n"
          ]
        }
      ]
    },
    {
      "cell_type": "code",
      "source": [
        "with open('TANMAY.txt', 'r') as src, open('copy.txt', 'w') as dest:\n",
        "    dest.write(src.read())\n"
      ],
      "metadata": {
        "id": "2LbQ9QAmiGz4"
      },
      "execution_count": 6,
      "outputs": []
    },
    {
      "cell_type": "code",
      "source": [
        "try:\n",
        "    result = 10 / 0\n",
        "except ZeroDivisionError:\n",
        "    print(\"Cannot divide by zero!\")\n"
      ],
      "metadata": {
        "colab": {
          "base_uri": "https://localhost:8080/"
        },
        "id": "JW5Dr7sGiOuZ",
        "outputId": "2c04c9be-1e43-4eeb-df91-54d8278ba9a3"
      },
      "execution_count": 7,
      "outputs": [
        {
          "output_type": "stream",
          "name": "stdout",
          "text": [
            "Cannot divide by zero!\n"
          ]
        }
      ]
    },
    {
      "cell_type": "code",
      "source": [
        "import logging\n",
        "\n",
        "logging.basicConfig(filename='error.log', level=logging.ERROR)\n",
        "\n",
        "try:\n",
        "    result = 10 / 0\n",
        "except ZeroDivisionError:\n",
        "    logging.error(\"Division by zero error occurred.\")\n"
      ],
      "metadata": {
        "colab": {
          "base_uri": "https://localhost:8080/"
        },
        "id": "1eyDitFuprWc",
        "outputId": "1c84bc64-1d8e-4711-fa9a-789671cba605"
      },
      "execution_count": 37,
      "outputs": [
        {
          "output_type": "stream",
          "name": "stderr",
          "text": [
            "ERROR:root:Division by zero error occurred.\n"
          ]
        }
      ]
    },
    {
      "cell_type": "code",
      "source": [
        "import logging\n",
        "\n",
        "logging.basicConfig(level=logging.DEBUG)\n",
        "\n",
        "logging.info(\"This is an info message.\")\n",
        "logging.warning(\"This is a warning message.\")\n",
        "logging.error(\"This is an error message.\")\n"
      ],
      "metadata": {
        "colab": {
          "base_uri": "https://localhost:8080/"
        },
        "id": "Vsp7d1-UjFk5",
        "outputId": "31029779-d4d3-4219-e726-ac13937abb18"
      },
      "execution_count": 8,
      "outputs": [
        {
          "output_type": "stream",
          "name": "stderr",
          "text": [
            "WARNING:root:This is a warning message.\n",
            "ERROR:root:This is an error message.\n"
          ]
        }
      ]
    },
    {
      "cell_type": "code",
      "source": [
        "try:\n",
        "    with open('TANMAY.txt', 'r') as f:\n",
        "        print(f.read())\n",
        "except FileNotFoundError:\n",
        "    print(\"Error: The file does not exist.\")\n"
      ],
      "metadata": {
        "colab": {
          "base_uri": "https://localhost:8080/"
        },
        "id": "RwGCkZ4tj9q5",
        "outputId": "2efa52fa-fcf0-4b26-bde7-117123ede39f"
      },
      "execution_count": 10,
      "outputs": [
        {
          "output_type": "stream",
          "name": "stdout",
          "text": [
            "HELLO I'M TANMAY.\n"
          ]
        }
      ]
    },
    {
      "cell_type": "code",
      "source": [
        "with open('TANMAY.txt', 'r') as f:\n",
        "    lines = f.readlines()\n",
        "\n",
        "print(lines)\n"
      ],
      "metadata": {
        "colab": {
          "base_uri": "https://localhost:8080/"
        },
        "id": "hDfwINEhp3qM",
        "outputId": "bcb1ff62-1ac1-4f29-91ee-bf55b4e11fff"
      },
      "execution_count": 38,
      "outputs": [
        {
          "output_type": "stream",
          "name": "stdout",
          "text": [
            "[\"HELLO I'M TANMAY.This is new data added to the file.\\n\", 'This is new data added to the file.\\n']\n"
          ]
        }
      ]
    },
    {
      "cell_type": "code",
      "source": [
        "with open('TANMAY.txt', 'r') as f:\n",
        "    lines = f.readlines()\n",
        "\n",
        "print(lines)\n",
        "\n",
        "\n",
        "with open('TANMAY.txt', 'r') as f:\n",
        "    content = f.read()\n",
        "    print(content)\n"
      ],
      "metadata": {
        "colab": {
          "base_uri": "https://localhost:8080/"
        },
        "id": "RvAZ-Tm0kG4M",
        "outputId": "fae1dae2-8b06-4e9d-92ab-32367b2f03a3"
      },
      "execution_count": 13,
      "outputs": [
        {
          "output_type": "stream",
          "name": "stdout",
          "text": [
            "[\"HELLO I'M TANMAY.This is new data added to the file.\\n\"]\n",
            "HELLO I'M TANMAY.This is new data added to the file.\n",
            "\n"
          ]
        }
      ]
    },
    {
      "cell_type": "code",
      "source": [
        "with open('TANMAY.txt', 'a') as f:\n",
        "    f.write(\"This is new data added to the file.\\n\")\n",
        "    my_dict = {'name': 'TANMAY', 'age': 22}\n",
        "\n",
        "try:\n",
        "    value = my_dict['address']\n",
        "except KeyError:\n",
        "    print(\"Error: The key does not exist in the dictionary.\")\n",
        "\n"
      ],
      "metadata": {
        "colab": {
          "base_uri": "https://localhost:8080/"
        },
        "id": "YPq3eEp8kONj",
        "outputId": "8517c9c8-0e8b-4ce5-8e5a-500d151a047c"
      },
      "execution_count": 17,
      "outputs": [
        {
          "output_type": "stream",
          "name": "stdout",
          "text": [
            "Error: The key does not exist in the dictionary.\n"
          ]
        }
      ]
    },
    {
      "cell_type": "code",
      "source": [
        "try:\n",
        "    x = int(input(\"Enter a number: \"))\n",
        "    result = 10 / x\n",
        "except ZeroDivisionError:\n",
        "    print(\"Error: Cannot divide by zero.\")\n",
        "except ValueError:\n",
        "    print(\"Error: Invalid input. Please enter a valid number.\")\n"
      ],
      "metadata": {
        "colab": {
          "base_uri": "https://localhost:8080/"
        },
        "id": "EbAd0HVjkSja",
        "outputId": "33a16a7a-5709-4609-8548-4f8569545454"
      },
      "execution_count": 19,
      "outputs": [
        {
          "output_type": "stream",
          "name": "stdout",
          "text": [
            "Enter a number: 0\n",
            "Error: Cannot divide by zero.\n"
          ]
        }
      ]
    },
    {
      "cell_type": "code",
      "source": [
        "import os\n",
        "\n",
        "filename = 'TANMAY.txt'\n",
        "\n",
        "if os.path.exists(filename):\n",
        "    with open(filename, 'r') as f:\n",
        "        content = f.read()\n",
        "        print(content)\n",
        "else:\n",
        "    print(\"The file does not exist.\")\n"
      ],
      "metadata": {
        "colab": {
          "base_uri": "https://localhost:8080/"
        },
        "id": "wfyHMB5Gkzxi",
        "outputId": "54d65234-7fec-41dd-8211-6a2331692ac5"
      },
      "execution_count": 20,
      "outputs": [
        {
          "output_type": "stream",
          "name": "stdout",
          "text": [
            "HELLO I'M TANMAY.This is new data added to the file.\n",
            "This is new data added to the file.\n",
            "\n"
          ]
        }
      ]
    },
    {
      "cell_type": "code",
      "source": [
        "import logging\n",
        "\n",
        "logging.basicConfig(level=logging.DEBUG)\n",
        "\n",
        "logging.info(\"This is an informational message.\")\n",
        "\n",
        "logging.error(\"This is an error message.\")\n"
      ],
      "metadata": {
        "colab": {
          "base_uri": "https://localhost:8080/"
        },
        "id": "WfxhzIhrk-bL",
        "outputId": "79210452-f33b-45d6-d4cb-8e274fe26316"
      },
      "execution_count": 21,
      "outputs": [
        {
          "output_type": "stream",
          "name": "stderr",
          "text": [
            "ERROR:root:This is an error message.\n"
          ]
        }
      ]
    },
    {
      "cell_type": "code",
      "source": [
        "try:\n",
        "    with open('TANMAY.txt', 'r') as f:\n",
        "        content = f.read()\n",
        "        if content:\n",
        "            print(content)\n",
        "        else:\n",
        "            print(\"The file is empty.\")\n",
        "except FileNotFoundError:\n",
        "    print(\"The file does not exist.\")\n"
      ],
      "metadata": {
        "colab": {
          "base_uri": "https://localhost:8080/"
        },
        "id": "WmQ0qV5klVld",
        "outputId": "4190e7e5-7ece-4d4d-e2ad-6db5654e2330"
      },
      "execution_count": 22,
      "outputs": [
        {
          "output_type": "stream",
          "name": "stdout",
          "text": [
            "HELLO I'M TANMAY.This is new data added to the file.\n",
            "This is new data added to the file.\n",
            "\n"
          ]
        }
      ]
    },
    {
      "cell_type": "code",
      "source": [
        "import psutil\n",
        "import os\n",
        "\n",
        "# Get current process\n",
        "process = psutil.Process(os.getpid())\n",
        "\n",
        "# Example function\n",
        "def my_function():\n",
        "    a = [1] * (10**6)  # Creates a list with 1 million elements\n",
        "    print(\"Memory used (MB):\", process.memory_info().rss / 1024 / 1024)\n",
        "\n",
        "my_function()\n",
        "\n"
      ],
      "metadata": {
        "colab": {
          "base_uri": "https://localhost:8080/"
        },
        "id": "O5ABOBVDl_yM",
        "outputId": "56a77585-f937-44d4-a6f2-b45adc6cbdca"
      },
      "execution_count": 24,
      "outputs": [
        {
          "output_type": "stream",
          "name": "stdout",
          "text": [
            "Memory used (MB): 107.11328125\n"
          ]
        }
      ]
    },
    {
      "cell_type": "code",
      "source": [
        "numbers = [1, 2, 3, 4, 5]\n",
        "\n",
        "with open('numbers.txt', 'w') as f:\n",
        "    for num in numbers:\n",
        "        f.write(str(num) + '\\n')\n"
      ],
      "metadata": {
        "id": "ts73HnP4mLHz"
      },
      "execution_count": 25,
      "outputs": []
    },
    {
      "cell_type": "code",
      "source": [
        "import logging\n",
        "from logging.handlers import RotatingFileHandler\n",
        "\n",
        "handler = RotatingFileHandler('TANMAY.log', maxBytes=1*1024*1024, backupCount=3)\n",
        "logging.basicConfig(handlers=[handler], level=logging.INFO)\n",
        "\n",
        "for i in range(10000):\n",
        "    logging.info(f\"This is log message number {i}\")\n",
        "\n",
        "with open('TANMAY.log', 'r') as f:\n",
        "    print(f.read())\n"
      ],
      "metadata": {
        "colab": {
          "base_uri": "https://localhost:8080/"
        },
        "id": "cJViORQ8muuu",
        "outputId": "24ff48f4-6d49-435b-c2c9-84baf0e30a4f"
      },
      "execution_count": 30,
      "outputs": [
        {
          "output_type": "stream",
          "name": "stdout",
          "text": [
            "\n"
          ]
        }
      ]
    },
    {
      "cell_type": "code",
      "source": [
        "my_list = [10, 20, 30]\n",
        "my_dict = {'a': 1, 'b': 2}\n",
        "\n",
        "try:\n",
        "    print(my_list[5])\n",
        "    print(my_dict['z'])\n",
        "except IndexError:\n",
        "    print(\"IndexError: List index is out of range.\")\n",
        "except KeyError:\n",
        "    print(\"KeyError: Key not found in dictionary.\")\n"
      ],
      "metadata": {
        "colab": {
          "base_uri": "https://localhost:8080/"
        },
        "id": "4hws9XClm2Ys",
        "outputId": "ea3a265c-526f-409f-81e3-d05113e8902a"
      },
      "execution_count": 31,
      "outputs": [
        {
          "output_type": "stream",
          "name": "stdout",
          "text": [
            "IndexError: List index is out of range.\n"
          ]
        }
      ]
    },
    {
      "cell_type": "code",
      "source": [
        "with open('TANMAY.txt', 'r') as f:\n",
        "    content = f.read()\n",
        "    print(content)\n"
      ],
      "metadata": {
        "colab": {
          "base_uri": "https://localhost:8080/"
        },
        "id": "mxFsqydgnOsp",
        "outputId": "340d5e9f-3e13-4ec9-8995-dbdae1e30c8c"
      },
      "execution_count": 32,
      "outputs": [
        {
          "output_type": "stream",
          "name": "stdout",
          "text": [
            "HELLO I'M TANMAY.This is new data added to the file.\n",
            "This is new data added to the file.\n",
            "\n"
          ]
        }
      ]
    },
    {
      "cell_type": "code",
      "source": [
        "word_to_find = 'python'\n",
        "\n",
        "with open('TANMAY.txt', 'r') as f:\n",
        "    content = f.read()\n",
        "    count = content.lower().split().count(word_to_find.lower())\n",
        "    print(f\"The word '{word_to_find}' occurs {count} times.\")\n"
      ],
      "metadata": {
        "colab": {
          "base_uri": "https://localhost:8080/"
        },
        "id": "DzfzTI5xnUyQ",
        "outputId": "3557f79d-14d9-4040-bb3c-ba4993984e3f"
      },
      "execution_count": 34,
      "outputs": [
        {
          "output_type": "stream",
          "name": "stdout",
          "text": [
            "The word 'python' occurs 0 times.\n"
          ]
        }
      ]
    },
    {
      "cell_type": "code",
      "source": [
        "import os\n",
        "\n",
        "if os.stat('TANMAY.txt').st_size == 0:\n",
        "    print(\"The file is empty.\")\n",
        "else:\n",
        "    with open('TANMAY.txt', 'r') as f:\n",
        "        print(f.read())\n"
      ],
      "metadata": {
        "colab": {
          "base_uri": "https://localhost:8080/"
        },
        "id": "kIfn2MAYnaay",
        "outputId": "a07418a5-2b93-4177-c599-2bfebd4b9547"
      },
      "execution_count": 35,
      "outputs": [
        {
          "output_type": "stream",
          "name": "stdout",
          "text": [
            "HELLO I'M TANMAY.This is new data added to the file.\n",
            "This is new data added to the file.\n",
            "\n"
          ]
        }
      ]
    },
    {
      "cell_type": "code",
      "source": [
        "import logging\n",
        "\n",
        "logging.basicConfig(filename='error_log.txt', level=logging.ERROR)\n",
        "\n",
        "try:\n",
        "    with open('nonexistent.txt', 'r') as f:\n",
        "        content = f.read()\n",
        "except FileNotFoundError as e:\n",
        "    logging.error(f\"File error: {e}\")\n"
      ],
      "metadata": {
        "colab": {
          "base_uri": "https://localhost:8080/"
        },
        "id": "-wN28O3hnkaY",
        "outputId": "064e101c-f103-47aa-f51e-57b2c46cb62d"
      },
      "execution_count": 36,
      "outputs": [
        {
          "output_type": "stream",
          "name": "stderr",
          "text": [
            "ERROR:root:File error: [Errno 2] No such file or directory: 'nonexistent.txt'\n"
          ]
        }
      ]
    },
    {
      "cell_type": "code",
      "source": [],
      "metadata": {
        "id": "M9hd0qYzoAEz"
      },
      "execution_count": null,
      "outputs": []
    }
  ]
}